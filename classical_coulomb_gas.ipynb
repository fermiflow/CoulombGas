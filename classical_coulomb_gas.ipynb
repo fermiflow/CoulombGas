{
  "cells": [
    {
      "cell_type": "markdown",
      "metadata": {
        "id": "view-in-github",
        "colab_type": "text"
      },
      "source": [
        "<a href=\"https://colab.research.google.com/github/fermiflow/CoulombGas/blob/master/classical_coulomb_gas.ipynb\" target=\"_parent\"><img src=\"https://colab.research.google.com/assets/colab-badge.svg\" alt=\"Open In Colab\"/></a>"
      ]
    },
    {
      "cell_type": "code",
      "execution_count": 19,
      "metadata": {
        "id": "HfzgwjwSaowU"
      },
      "outputs": [],
      "source": [
        "import jax\n",
        "from jax.config import config   \n",
        "config.update(\"jax_enable_x64\", True)\n",
        "import jax.numpy as jnp\n",
        "from jax import lax, random, jit, vmap\n",
        "from functools import partial\n",
        "from jax.scipy.stats import norm\n",
        "from jax.example_libraries import optimizers\n",
        "from jax.example_libraries.stax import Dense, Relu, serial\n",
        "import numpy as np\n",
        "import matplotlib.pyplot as plt \n",
        "from IPython import display"
      ]
    },
    {
      "cell_type": "code",
      "execution_count": 20,
      "metadata": {
        "id": "3r6s_qc8aowY",
        "outputId": "023ba1d9-e597-472e-8299-501a2b790616",
        "colab": {
          "base_uri": "https://localhost:8080/"
        }
      },
      "outputs": [
        {
          "output_type": "stream",
          "name": "stdout",
          "text": [
            "Tue Aug 16 00:50:54 2022       \n",
            "+-----------------------------------------------------------------------------+\n",
            "| NVIDIA-SMI 460.32.03    Driver Version: 460.32.03    CUDA Version: 11.2     |\n",
            "|-------------------------------+----------------------+----------------------+\n",
            "| GPU  Name        Persistence-M| Bus-Id        Disp.A | Volatile Uncorr. ECC |\n",
            "| Fan  Temp  Perf  Pwr:Usage/Cap|         Memory-Usage | GPU-Util  Compute M. |\n",
            "|                               |                      |               MIG M. |\n",
            "|===============================+======================+======================|\n",
            "|   0  Tesla T4            Off  | 00000000:00:04.0 Off |                    0 |\n",
            "| N/A   47C    P0    26W /  70W |  13828MiB / 15109MiB |      0%      Default |\n",
            "|                               |                      |                  N/A |\n",
            "+-------------------------------+----------------------+----------------------+\n",
            "                                                                               \n",
            "+-----------------------------------------------------------------------------+\n",
            "| Processes:                                                                  |\n",
            "|  GPU   GI   CI        PID   Type   Process name                  GPU Memory |\n",
            "|        ID   ID                                                   Usage      |\n",
            "|=============================================================================|\n",
            "+-----------------------------------------------------------------------------+\n"
          ]
        },
        {
          "output_type": "execute_result",
          "data": {
            "text/plain": [
              "[GpuDevice(id=0, process_index=0)]"
            ]
          },
          "metadata": {},
          "execution_count": 20
        }
      ],
      "source": [
        "!nvidia-smi\n",
        "jax.devices()"
      ]
    },
    {
      "cell_type": "markdown",
      "metadata": {
        "id": "XOP-tgCDWGhp"
      },
      "source": [
        "# Classical Coulomb gas\n",
        "\n",
        "We'd like to study thermodynamic property of the classical Coulomb gas, whose Hamiltonian reads\n",
        "\n",
        "$$H= \\sum_{i<j} \\frac{1}{|\\boldsymbol{x}_i - \\boldsymbol{x}_j|} + \\sum_i  \\boldsymbol{x}_i^2 . $$\n",
        "The second term is a harmonic trapping potential. It makes our story easier (no need to consider periodic bondary condition or Ewald sum for long range interaction.)\n",
        "\n",
        "The way to go is to minimize the variationial free energy with respect to a variational probability density $p(\\boldsymbol{x})$\n",
        "\n",
        "$$\\mathcal{L} = \\mathbb{E}_{\\boldsymbol{x} \\sim p(\\boldsymbol{x})} \\left [\\frac{1}{\\beta}\\ln p(\\boldsymbol{x}) +  H(\\boldsymbol{x}) \\right] \\ge -\\frac{1}{\\beta} \\ln Z, $$ \n",
        "where $Z = \\int d \\boldsymbol{x} e^{-\\beta H}$ and $\\beta$ is the inverse temperature. The equality holds when $p(\\boldsymbol{x}) = e^{-\\beta H}/Z$, i.e., we achieve the exact solution. \n",
        "\n",
        "First thing first, here is the energy function"
      ]
    },
    {
      "cell_type": "code",
      "execution_count": 21,
      "metadata": {
        "id": "k_L0AGpiaowe"
      },
      "outputs": [],
      "source": [
        "def energy_fun(x, n, dim):\n",
        "    i, j = np.triu_indices(n, k=1)\n",
        "    r_ee = jnp.linalg.norm((jnp.reshape(x, (n, 1, dim)) - jnp.reshape(x, (1, n, dim)))[i,j], axis=-1)\n",
        "    v_ee = jnp.sum(1/r_ee)\n",
        "    return jnp.sum(x**2) + v_ee"
      ]
    },
    {
      "cell_type": "markdown",
      "metadata": {
        "id": "obkF0f8_YQLk"
      },
      "source": [
        "## Generative model\n",
        "\n",
        "### RealNVP\n",
        "\n",
        "The probablistic model we are going to use is the RealNVP https://arxiv.org/abs/1605.08803, which is one of the simplest but effective normalizing flow method.\n",
        "\n",
        "In $l$ layer, we divide the inputs into two parts, keep one part and change the other half according to the transformation below:\n",
        "\n",
        "$$\n",
        "\\begin{aligned}\n",
        "\\mathbf{x}^{l}_< &= \\mathbf{x}^{l-1}_< \\\\\n",
        "\\mathbf{x}^{l}_> &= \\mathbf{x}^{l-1}_> e^{s^{l-1}(\\mathbf{x}^{l-1}_<)} + t^{l-1}(\\mathbf{x}^{l-1}_<),\n",
        "\\end{aligned}\n",
        "$$\n",
        "\n",
        "while arbitrary network can be selected as $s$ and $t$, and the jacobian determinant of this transformation simply equals to $e^{s^{l-1}(\\mathbf{x}^{l-1}_<)}$.\n",
        "\n",
        "The inverse transformation is also quite simple\n",
        "\n",
        "$$\n",
        "\\begin{aligned}\n",
        "\\mathbf{x}^{l-1}_< &= \\mathbf{x}^{l}_< \\\\\n",
        "\\mathbf{x}^{l-1}_> &= (\\mathbf{x}^{l}_> - t^{l-1}(\\mathbf{x}^{l}_<)) e^{s^{l-1}(\\mathbf{x}^{l-1}_<)},\n",
        "\\end{aligned}\n",
        "$$\n",
        "\n",
        "Then we reverse the two halves and hand them over to the next layer, ensuring that all inputs will be transformed. Notice that the jacobian determinant of reversing is 1.\n"
      ]
    },
    {
      "cell_type": "code",
      "execution_count": 22,
      "metadata": {
        "id": "YlfLFKjXaowh"
      },
      "outputs": [],
      "source": [
        "def layer(transform):\n",
        "\n",
        "    def init_fun(rng, input_dim):\n",
        "        cutoff = input_dim // 2\n",
        "        perm = jnp.arange(input_dim)[::-1] \n",
        "        params, trans_fun = transform(rng, cutoff, 2 * (input_dim - cutoff))\n",
        "\n",
        "        def direct_fun(params, inputs):\n",
        "            lower, upper = inputs[:, :cutoff], inputs[:, cutoff:]\n",
        "\n",
        "            log_weight, bias = trans_fun(params, lower).split(2, axis=1)\n",
        "            upper = upper * jnp.exp(log_weight) + bias\n",
        "\n",
        "            outputs = jnp.concatenate([lower, upper], axis=1)\n",
        "            log_det_jacobian = log_weight.sum(-1)\n",
        "            return outputs[:,perm], log_det_jacobian\n",
        "\n",
        "        def inverse_fun(params, inputs):\n",
        "            inputs = inputs[:, perm]\n",
        "            lower, upper = inputs[:, :cutoff], inputs[:, cutoff:]\n",
        "\n",
        "            log_weight, bias = trans_fun(params, lower).split(2, axis=1)\n",
        "            upper = (upper - bias) * jnp.exp(-log_weight)\n",
        "\n",
        "            outputs = jnp.concatenate([lower, upper], axis=1)\n",
        "            log_det_jacobian = log_weight.sum(-1)\n",
        "            return outputs, log_det_jacobian\n",
        "\n",
        "        return params, direct_fun, inverse_fun\n",
        "    \n",
        "    return init_fun"
      ]
    },
    {
      "cell_type": "code",
      "execution_count": 23,
      "metadata": {
        "id": "JVP5f5gNaowj"
      },
      "outputs": [],
      "source": [
        "def RealNVP(transform, n: int):\n",
        "\n",
        "    def init_fun(rng, input_dim):\n",
        "\n",
        "        all_params, direct_funs, inverse_funs = [], [], []\n",
        "        for _ in range(n):\n",
        "            rng, layer_rng = random.split(rng)\n",
        "            init_fun = layer(transform)\n",
        "            param, direct_fun, inverse_fun = init_fun(layer_rng, input_dim)\n",
        "\n",
        "            all_params.append(param)\n",
        "            direct_funs.append(direct_fun)\n",
        "            inverse_funs.append(inverse_fun)\n",
        "\n",
        "        def feed_forward(params, apply_funs, inputs):\n",
        "            log_det_jacobians = jnp.zeros(inputs.shape[:1])\n",
        "            for apply_fun, param in zip(apply_funs, params):\n",
        "                inputs, log_det_jacobian = apply_fun(param, inputs)\n",
        "                log_det_jacobians += log_det_jacobian\n",
        "            return inputs, log_det_jacobians\n",
        "\n",
        "        def direct_fun(params, inputs):\n",
        "            return feed_forward(params, direct_funs, inputs)\n",
        "\n",
        "        def inverse_fun(params, inputs):\n",
        "            return feed_forward(reversed(params), reversed(inverse_funs), inputs)\n",
        "\n",
        "        return all_params, direct_fun, inverse_fun\n",
        "\n",
        "    return init_fun"
      ]
    },
    {
      "cell_type": "markdown",
      "metadata": {
        "id": "I8lBKsQFY9Sd"
      },
      "source": [
        "### Loss function\n",
        "\n",
        "Gradient of the objective function is\n",
        "\n",
        "$$\\nabla \\mathcal{L} = \\mathbb{E}_{\\boldsymbol{x} \\sim p(\\boldsymbol{x})} \\left[ f (\\boldsymbol{x})  \\nabla \\ln p(\\boldsymbol{x}) \\right],$$ \n",
        "where $f (\\boldsymbol{x}) =\\frac{1}{\\beta}\\ln p(\\boldsymbol{x}) +  H(\\boldsymbol{x})$. This is known as the REINFORCE algorithm, or score function gradient estimator. See https://arxiv.org/abs/1906.10652 for more details. \n"
      ]
    },
    {
      "cell_type": "code",
      "execution_count": 24,
      "metadata": {
        "id": "KwBGTFYhaowm"
      },
      "outputs": [],
      "source": [
        "def make_reinforce_loss(flow_inverse, n, dim, beta):\n",
        "\n",
        "    batch_energy = vmap(energy_fun, (0, None, None), 0)\n",
        "\n",
        "    def loss(params, outputs):\n",
        "        inputs, log_det_jacobian = flow_inverse(params, outputs)\n",
        "        log_prob = norm.logpdf(inputs).sum(-1)\n",
        "        entropy = log_prob - log_det_jacobian\n",
        "        energy = batch_energy(outputs, n, dim)\n",
        "        f = entropy/beta +  energy\n",
        "        f = lax.stop_gradient(f)\n",
        "\n",
        "        f_mean = jnp.mean(f)\n",
        "        f_std = jnp.std(f)/jnp.sqrt(f.shape[0])\n",
        "            \n",
        "        return jnp.mean((f - f_mean) * entropy), (f_mean, f_std)\n",
        "    return loss"
      ]
    },
    {
      "cell_type": "markdown",
      "metadata": {
        "id": "jhRJt8HOaowo"
      },
      "source": [
        "### Initializing\n",
        "\n",
        "Now we are ready to initialize a RealNVP network"
      ]
    },
    {
      "cell_type": "code",
      "execution_count": 25,
      "metadata": {
        "id": "WzX61oW4aowp"
      },
      "outputs": [],
      "source": [
        "batchsize = 8192\n",
        "n = 6\n",
        "dim = 2 \n",
        "beta = 10.0\n",
        "nlayers = 2\n",
        "rng = random.PRNGKey(42)\n",
        "\n",
        "def transform(rng, cutoff: int, other: int):\n",
        "            net_init, net_apply = serial(Dense(16), Relu, Dense(16), Relu, Dense(other))\n",
        "            in_shape = (-1, cutoff)\n",
        "            out_shape, net_params = net_init(rng, in_shape)\n",
        "            return net_params, net_apply\n",
        "\n",
        "flow_init = RealNVP(transform, nlayers)\n",
        "    \n",
        "init_rng, rng = random.split(rng)\n",
        "params, flow_forward, flow_inverse = flow_init(init_rng, n*dim)"
      ]
    },
    {
      "cell_type": "code",
      "execution_count": 26,
      "metadata": {
        "id": "qdwBkBPiaowp"
      },
      "outputs": [],
      "source": [
        "loss = make_reinforce_loss(flow_inverse, n, dim, beta)\n",
        "value_and_grad = jax.value_and_grad(loss, argnums=0, has_aux=True)"
      ]
    },
    {
      "cell_type": "code",
      "execution_count": 27,
      "metadata": {
        "id": "xacy_UCeaowq"
      },
      "outputs": [],
      "source": [
        "opt_init, opt_update, get_params = optimizers.adam(step_size=1e-2)\n",
        "opt_state = opt_init(params)"
      ]
    },
    {
      "cell_type": "markdown",
      "metadata": {
        "id": "xaqJltIXsfpP"
      },
      "source": [
        "### Training\n",
        "\n",
        "Here is the training loop. During training we monitor the density and loss histroy. "
      ]
    },
    {
      "cell_type": "code",
      "execution_count": 28,
      "metadata": {
        "id": "JBX1-IT2aowq",
        "outputId": "8cf01175-c15a-4de7-abd9-ebd38dedaeba",
        "colab": {
          "base_uri": "https://localhost:8080/",
          "height": 388
        }
      },
      "outputs": [
        {
          "output_type": "display_data",
          "data": {
            "text/plain": [
              "<Figure size 864x432 with 2 Axes>"
            ],
            "image/png": "[encoded data removed]"
          },
          "metadata": {
            "needs_background": "light"
          }
        }
      ],
      "source": [
        "@jit\n",
        "def step(rng, i, opt_state):\n",
        "    params = get_params(opt_state)\n",
        "    \n",
        "    batch_inputs = jax.random.normal(rng, (batchsize, n*dim)) \n",
        "    outputs, _ = flow_forward(params, batch_inputs)\n",
        "\n",
        "    value, grad = value_and_grad(params, outputs)\n",
        "\n",
        "    opt_state = opt_update(i, grad, opt_state)\n",
        "    return value, opt_state, outputs\n",
        "\n",
        "loss_history = []\n",
        "for i in range(500):\n",
        "    step_rng, rng = jax.random.split(rng)\n",
        "    value, opt_state, x = step(step_rng, i, opt_state)\n",
        "    _, (f_mean, f_err) = value\n",
        "\n",
        "    loss_history.append([f_mean, f_err])\n",
        "\n",
        "    x = jnp.reshape(x, (batchsize*n, dim)) \n",
        "\n",
        "    display.clear_output(wait=True)\n",
        "\n",
        "    fig = plt.figure(figsize=(12, 6))\n",
        "    plt.subplot(1, 2, 1)\n",
        "    H, xedges, yedges = np.histogram2d(x[:, 0], x[:, 1], \n",
        "                                       bins=100, \n",
        "                                       range=((-4, 4), (-4, 4)),\n",
        "                        density=True)\n",
        "    plt.imshow(H, interpolation=\"nearest\", \n",
        "               extent=(xedges[0], xedges[-1], yedges[0], yedges[-1]),\n",
        "               cmap=\"inferno\")\n",
        "\n",
        "    plt.xlim([-4, 4])\n",
        "    plt.ylim([-4, 4])\n",
        "\n",
        "    plt.subplot(1, 2, 2)\n",
        "    y = np.reshape(np.array(loss_history), (-1, 2))\n",
        "    plt.errorbar(np.arange(i+1), y[:, 0], yerr=y[:, 1], marker='o', capsize=8)\n",
        "    plt.xlabel('epochs')\n",
        "    plt.ylabel('variational free energy')\n",
        "    plt.pause(0.01)"
      ]
    },
    {
      "cell_type": "markdown",
      "source": [
        "Let's check the energy of the system after optimization"
      ],
      "metadata": {
        "id": "I0Zc6oZGGfM5"
      }
    },
    {
      "cell_type": "code",
      "execution_count": null,
      "metadata": {
        "id": "XltuyZ1Zaows",
        "outputId": "06e3e8aa-bb64-453c-927a-709ff9766bc5",
        "colab": {
          "base_uri": "https://localhost:8080/"
        }
      },
      "outputs": [
        {
          "output_type": "stream",
          "name": "stdout",
          "text": [
            "17.387173341031733 0.00289697321442003\n"
          ]
        }
      ],
      "source": [
        "sample_realnvp = x.reshape(batchsize, n, dim)\n",
        "energy_realnvp = vmap(energy_fun, (0, None, None), 0)(sample_realnvp, n, dim)\n",
        "print(jnp.mean(energy_realnvp), jnp.std(energy_realnvp)/jnp.sqrt(batchsize))"
      ]
    },
    {
      "cell_type": "markdown",
      "metadata": {
        "id": "zV1vKMbaft74"
      },
      "source": [
        "Do you see structure emerges from training? \n",
        "Yes! It is called [Wigner molecule](https://en.wikipedia.org/wiki/Wigner_crystal). Physicists had already studied [the ground state of Wigner crystals for such small clusters](https://www.sciencedirect.com/science/article/abs/pii/S0749603683710268). the interesting result is that for the case of six electrons, there are five electrons arranged around a single electron at the cneter, which is actually what we get."
      ]
    },
    {
      "cell_type": "markdown",
      "metadata": {
        "id": "BZmkaMMJeWVf"
      },
      "source": [
        "A few things to improve from this mininist implementation: \n",
        "* It seems the training breaks rotational invariance. But it shouldn't. How to incorporate that into the model design ? \n",
        "\n",
        "* How about permutation equivariance $\\mathcal{P} \\boldsymbol{v}(\\boldsymbol{x}) = v(\\mathcal{P} \\boldsymbol{x})$ ?\n",
        "\n",
        "* Do you feel it is a bit ackward to integrate the equation twice (one for sampling, one for the likelihood). It is actually easier to implement \"reparametrization\" gradient estimator. Code it and see why we were not using it here. Again, read https://arxiv.org/abs/1906.10652 for more details \n",
        "\n",
        "\n",
        "\n",
        "\n"
      ]
    },
    {
      "cell_type": "markdown",
      "metadata": {
        "id": "eQwLElKmaowu"
      },
      "source": [
        "## MCMC\n",
        "\n",
        "We can use MCMC to check if we are correct."
      ]
    },
    {
      "cell_type": "code",
      "execution_count": 29,
      "metadata": {
        "id": "8gCQ4p_4aowv"
      },
      "outputs": [],
      "source": [
        "@partial(jit, static_argnums=0)\n",
        "def mcmc(logp_fn, x_init, key, mc_steps, mc_width):\n",
        "    \"\"\"\n",
        "        Markov Chain Monte Carlo sampling algorithm.\n",
        "\n",
        "    INPUT:\n",
        "        logp_fn: callable that evaluate log-probability of a batch of configuration x.\n",
        "            The signature is logp_fn(x), where x has shape (batch, n, dim).\n",
        "        x_init: initial value of x, with shape (batch, n, dim).\n",
        "        key: initial PRNG key.\n",
        "        mc_steps: total number of Monte Carlo steps.\n",
        "        mc_width: size of the Monte Carlo proposal.\n",
        "\n",
        "    OUTPUT:\n",
        "        x: resulting batch samples, with the same shape as `x_init`.\n",
        "    \"\"\"\n",
        "    def step(i, state):\n",
        "        x, logp, key, num_accepts = state\n",
        "        key, key_proposal, key_accept = jax.random.split(key, 3)\n",
        "        \n",
        "        x_proposal = x + mc_width * jax.random.normal(key_proposal, x.shape)\n",
        "        logp_proposal = logp_fn(x_proposal)\n",
        "\n",
        "        ratio = jnp.exp((logp_proposal - logp))\n",
        "        accept = jax.random.uniform(key_accept, ratio.shape) < ratio\n",
        "\n",
        "        x_new = jnp.where(accept[:, None, None], x_proposal, x)\n",
        "        logp_new = jnp.where(accept, logp_proposal, logp)\n",
        "        num_accepts += accept.sum()\n",
        "        return x_new, logp_new, key, num_accepts\n",
        "    \n",
        "    logp_init = logp_fn(x_init)\n",
        "\n",
        "    x, logp, key, num_accepts = jax.lax.fori_loop(0, mc_steps, step, (x_init, logp_init, key, 0.))\n",
        "    batch = x.shape[0]\n",
        "    accept_rate = num_accepts / (mc_steps * batch)\n",
        "    return x, accept_rate"
      ]
    },
    {
      "cell_type": "code",
      "execution_count": 30,
      "metadata": {
        "id": "Gc3ZGRBqaowv"
      },
      "outputs": [],
      "source": [
        "@partial(jax.vmap, in_axes=(None, 0, None, None))\n",
        "def logp(beta, x, n, dim):\n",
        "    return -beta * energy_fun(x, n, dim)"
      ]
    },
    {
      "cell_type": "code",
      "execution_count": 31,
      "metadata": {
        "id": "QIdxmvehaoww",
        "outputId": "56d9d816-cd29-43d1-8d4f-231e5cdf04a6",
        "colab": {
          "base_uri": "https://localhost:8080/"
        }
      },
      "outputs": [
        {
          "output_type": "stream",
          "name": "stdout",
          "text": [
            "0.58614990234375 18.47303547162158 0.013553817156201953\n",
            "0.620921630859375 17.519845863833876 0.003738762051240855\n",
            "0.62939208984375 17.40430430918022 0.0025758009487915033\n",
            "0.630638427734375 17.38942212841285 0.0024867400102478315\n",
            "0.63100830078125 17.38724308813495 0.002457824322943043\n",
            "0.630909423828125 17.38852555279054 0.002455893865054881\n",
            "0.63153564453125 17.388751570831072 0.002483517475873131\n",
            "0.63089111328125 17.385913331986018 0.0024738192526780546\n",
            "0.631585693359375 17.38634133128952 0.002505116767542482\n",
            "0.631322021484375 17.38654925500163 0.0024780787315083906\n",
            "0.631627197265625 17.38880213243211 0.0024657705489245832\n",
            "0.63068603515625 17.38632853601986 0.002507079550063235\n",
            "0.631090087890625 17.392805909396564 0.0025181507930455106\n",
            "0.63115966796875 17.38774733225801 0.0024617565254753627\n",
            "0.631026611328125 17.385372555103743 0.002477044814960463\n",
            "0.63121337890625 17.388031473524812 0.0025261433061877082\n",
            "0.631463623046875 17.386388947615615 0.0024886751173525475\n",
            "0.631280517578125 17.38512320273898 0.0024633354779133657\n",
            "0.630960693359375 17.387850417630695 0.002486412411464413\n",
            "0.630810546875 17.391676746939066 0.002486396688897536\n"
          ]
        }
      ],
      "source": [
        "mc_steps = 100 \n",
        "mc_width = 0.05\n",
        "\n",
        "init_rng, rng = random.split(rng)\n",
        "\n",
        "x = random.normal(init_rng, (batchsize, n, dim))\n",
        "\n",
        "for _ in range(20):\n",
        "    mcmc_rng, rng = random.split(rng)\n",
        "    x, acc = mcmc(lambda x: logp(beta, x, n, dim), x, mcmc_rng, mc_steps, mc_width)\n",
        "    e = vmap(energy_fun, (0, None, None), 0)(x, n, dim)\n",
        "    print (acc, jnp.mean(e), jnp.std(e)/jnp.sqrt(batchsize))"
      ]
    },
    {
      "cell_type": "code",
      "execution_count": 32,
      "metadata": {
        "id": "s1QYKRImaoww",
        "outputId": "3c34fab2-33b7-4b1f-89a1-c896623fd19a",
        "colab": {
          "base_uri": "https://localhost:8080/",
          "height": 287
        }
      },
      "outputs": [
        {
          "output_type": "execute_result",
          "data": {
            "text/plain": [
              "<matplotlib.image.AxesImage at 0x7f6f133aed90>"
            ]
          },
          "metadata": {},
          "execution_count": 32
        },
        {
          "output_type": "display_data",
          "data": {
            "text/plain": [
              "<Figure size 432x288 with 1 Axes>"
            ],
            "image/png": "[encoded data removed]"
          },
          "metadata": {
            "needs_background": "light"
          }
        }
      ],
      "source": [
        "x = jnp.reshape(x, (batchsize*n, dim)) \n",
        "#density plot\n",
        "H, xedges, yedges = np.histogram2d(x[:, 0], x[:, 1], \n",
        "                                       bins=100, \n",
        "                                       range=((-4, 4), (-4, 4)),\n",
        "                        density=True)\n",
        "\n",
        "plt.imshow(H, interpolation=\"nearest\", \n",
        "               extent=(xedges[0], xedges[-1], yedges[0], yedges[-1]),\n",
        "               cmap=\"inferno\")"
      ]
    },
    {
      "cell_type": "markdown",
      "metadata": {
        "id": "Ecpdf8uLaowx"
      },
      "source": [
        "## Optimizing the ground state energy\n",
        "\n",
        "With jax, we can also directly optimize the energy funciton, to get the value of the ground state energy, using extremely simple code."
      ]
    },
    {
      "cell_type": "code",
      "execution_count": 33,
      "metadata": {
        "id": "_rw09I2Haowx"
      },
      "outputs": [],
      "source": [
        "energy_rng, rng = random.split(rng)\n",
        "x_init = jax.random.normal(energy_rng, (n, dim))\n",
        "\n",
        "energy_and_grad = jax.value_and_grad(energy_fun)\n",
        "\n",
        "opt_init, opt_update, get_params = optimizers.adam(step_size=1e-1)\n",
        "opt_state = opt_init(x_init)"
      ]
    },
    {
      "cell_type": "code",
      "execution_count": 34,
      "metadata": {
        "id": "vsM4z5Imaowy"
      },
      "outputs": [],
      "source": [
        "def energy_optimize(rng, i, opt_state):\n",
        "    x_new = get_params(opt_state)\n",
        "    energy, grad = energy_and_grad(x_new, n, dim)\n",
        "\n",
        "    opt_state = opt_update(i, grad, opt_state)\n",
        "    return energy, opt_state, x_new"
      ]
    },
    {
      "cell_type": "code",
      "execution_count": 35,
      "metadata": {
        "id": "GL6_D-Gqaowy",
        "outputId": "02b0e917-882a-43ef-e2e4-0447872aad1a",
        "colab": {
          "base_uri": "https://localhost:8080/",
          "height": 410
        }
      },
      "outputs": [
        {
          "output_type": "display_data",
          "data": {
            "text/plain": [
              "<Figure size 864x432 with 2 Axes>"
            ],
            "image/png": "[encoded data removed]"
          },
          "metadata": {
            "needs_background": "light"
          }
        },
        {
          "output_type": "stream",
          "name": "stdout",
          "text": [
            "16.94855852962386\n"
          ]
        }
      ],
      "source": [
        "energy_history = []\n",
        "for i in range(500):\n",
        "    step_rng, rng = jax.random.split(rng)\n",
        "    value, opt_state, x = energy_optimize(step_rng, i, opt_state)\n",
        "\n",
        "    energy_history.append([value]) \n",
        "\n",
        "    display.clear_output(wait=True)\n",
        "\n",
        "    fig = plt.figure(figsize=(12, 6))\n",
        "    plt.subplot(1, 2, 1)\n",
        "    plt.scatter(x[:, 0], x[:, 1])\n",
        "\n",
        "    plt.xlim([-4, 4])\n",
        "    plt.ylim([-4, 4])\n",
        "\n",
        "    plt.subplot(1, 2, 2)\n",
        "    y = np.array(energy_history)\n",
        "    plt.errorbar(np.arange(i+1), y, marker='o', capsize=8)\n",
        "    plt.xlabel('epochs')\n",
        "    plt.ylabel('energy')\n",
        "    plt.pause(0.01)\n",
        "\n",
        "print(value)"
      ]
    },
    {
      "cell_type": "markdown",
      "source": [
        "## Benchmark"
      ],
      "metadata": {
        "id": "5_Z2zizu8ksM"
      }
    },
    {
      "cell_type": "code",
      "source": [
        "plt."
      ],
      "metadata": {
        "id": "mcfvmmvt8jU1",
        "colab": {
          "base_uri": "https://localhost:8080/",
          "height": 135
        },
        "outputId": "c8af4e11-0bd5-4349-b828-366ffac13405"
      },
      "execution_count": null,
      "outputs": [
        {
          "output_type": "error",
          "ename": "SyntaxError",
          "evalue": "ignored",
          "traceback": [
            "\u001b[0;36m  File \u001b[0;32m\"<ipython-input-19-efb1a9b93a17>\"\u001b[0;36m, line \u001b[0;32m1\u001b[0m\n\u001b[0;31m    plt.\u001b[0m\n\u001b[0m        ^\u001b[0m\n\u001b[0;31mSyntaxError\u001b[0m\u001b[0;31m:\u001b[0m invalid syntax\n"
          ]
        }
      ]
    }
  ],
  "metadata": {
    "kernelspec": {
      "display_name": "Python 3.9.12 ('base')",
      "language": "python",
      "name": "python3"
    },
    "language_info": {
      "codemirror_mode": {
        "name": "ipython",
        "version": 3
      },
      "file_extension": ".py",
      "mimetype": "text/x-python",
      "name": "python",
      "nbconvert_exporter": "python",
      "pygments_lexer": "ipython3",
      "version": "3.9.12"
    },
    "orig_nbformat": 4,
    "vscode": {
      "interpreter": {
        "hash": "d5fd42cecb696eb755ed519f67a3230c8f3bf4d685bcb5837cf482ce4576aea4"
      }
    },
    "colab": {
      "name": "coulomb_gas_realnvp.ipynb",
      "provenance": [],
      "collapsed_sections": [],
      "include_colab_link": true
    },
    "accelerator": "GPU",
    "gpuClass": "standard"
  },
  "nbformat": 4,
  "nbformat_minor": 0
}